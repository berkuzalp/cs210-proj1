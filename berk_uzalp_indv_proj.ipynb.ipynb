{
 "cells": [
  {
   "cell_type": "markdown",
   "metadata": {},
   "source": [
    "Berk Uzalp 23956"
   ]
  },
  {
   "cell_type": "code",
   "execution_count": 1,
   "metadata": {},
   "outputs": [],
   "source": [
    "import pandas as pd\n",
    "import reverse_geocoder as rg\n",
    "import numpy as np\n",
    "import matplotlib.pyplot as plt\n",
    "from scipy import stats\n",
    "from datetime import datetime\n",
    "import seaborn as sns  # a visualization library based on matplotlib\n",
    "from datetime import datetime\n",
    "\n",
    "import warnings\n",
    "warnings.filterwarnings('ignore')\n",
    "\n",
    "sns.set(style=\"darkgrid\")\n",
    "\n",
    "%matplotlib inline"
   ]
  },
  {
   "cell_type": "code",
   "execution_count": 2,
   "metadata": {},
   "outputs": [],
   "source": [
    "from os.path import join"
   ]
  },
  {
   "cell_type": "code",
   "execution_count": 3,
   "metadata": {},
   "outputs": [],
   "source": [
    "\n",
    "filename = \"taxi-trips.csv\"\n",
    "\n",
    "df = pd.read_csv(filename)\n",
    "count_row = df.shape[0] \n"
   ]
  },
  {
   "cell_type": "code",
   "execution_count": 38,
   "metadata": {
    "scrolled": true
   },
   "outputs": [
    {
     "data": {
      "text/html": [
       "<div>\n",
       "<style scoped>\n",
       "    .dataframe tbody tr th:only-of-type {\n",
       "        vertical-align: middle;\n",
       "    }\n",
       "\n",
       "    .dataframe tbody tr th {\n",
       "        vertical-align: top;\n",
       "    }\n",
       "\n",
       "    .dataframe thead th {\n",
       "        text-align: right;\n",
       "    }\n",
       "</style>\n",
       "<table border=\"1\" class=\"dataframe\">\n",
       "  <thead>\n",
       "    <tr style=\"text-align: right;\">\n",
       "      <th></th>\n",
       "      <th>id</th>\n",
       "      <th>vendor_id</th>\n",
       "      <th>pickup_datetime</th>\n",
       "      <th>dropoff_datetime</th>\n",
       "      <th>passenger_count</th>\n",
       "      <th>pickup_longitude</th>\n",
       "      <th>pickup_latitude</th>\n",
       "      <th>dropoff_longitude</th>\n",
       "      <th>dropoff_latitude</th>\n",
       "      <th>store_and_fwd_flag</th>\n",
       "      <th>trip_duration</th>\n",
       "      <th>pickup district</th>\n",
       "      <th>dropoff district</th>\n",
       "      <th>distance</th>\n",
       "      <th>time of day</th>\n",
       "      <th>days</th>\n",
       "    </tr>\n",
       "  </thead>\n",
       "  <tbody>\n",
       "    <tr>\n",
       "      <th>0</th>\n",
       "      <td>id2875421</td>\n",
       "      <td>2</td>\n",
       "      <td>2016-03-14 17:24:55</td>\n",
       "      <td>2016-03-14 17:32:30</td>\n",
       "      <td>1</td>\n",
       "      <td>-73.982155</td>\n",
       "      <td>40.767937</td>\n",
       "      <td>-73.964630</td>\n",
       "      <td>40.765602</td>\n",
       "      <td>N</td>\n",
       "      <td>455</td>\n",
       "      <td>Manhattan</td>\n",
       "      <td>Manhattan</td>\n",
       "      <td>0.933406</td>\n",
       "      <td>rush hour evening</td>\n",
       "      <td>0</td>\n",
       "    </tr>\n",
       "    <tr>\n",
       "      <th>1</th>\n",
       "      <td>id0012891</td>\n",
       "      <td>2</td>\n",
       "      <td>2016-03-10 21:45:01</td>\n",
       "      <td>2016-03-10 22:05:26</td>\n",
       "      <td>1</td>\n",
       "      <td>-73.981049</td>\n",
       "      <td>40.744339</td>\n",
       "      <td>-73.973000</td>\n",
       "      <td>40.789989</td>\n",
       "      <td>N</td>\n",
       "      <td>1225</td>\n",
       "      <td>Long Island City</td>\n",
       "      <td>Manhattan</td>\n",
       "      <td>3.178194</td>\n",
       "      <td>evening</td>\n",
       "      <td>3</td>\n",
       "    </tr>\n",
       "    <tr>\n",
       "      <th>2</th>\n",
       "      <td>id3361153</td>\n",
       "      <td>1</td>\n",
       "      <td>2016-03-11 07:11:23</td>\n",
       "      <td>2016-03-11 07:20:09</td>\n",
       "      <td>1</td>\n",
       "      <td>-73.994560</td>\n",
       "      <td>40.750526</td>\n",
       "      <td>-73.978500</td>\n",
       "      <td>40.756191</td>\n",
       "      <td>N</td>\n",
       "      <td>526</td>\n",
       "      <td>Weehawken</td>\n",
       "      <td>Manhattan</td>\n",
       "      <td>0.928961</td>\n",
       "      <td>rush hour morning</td>\n",
       "      <td>4</td>\n",
       "    </tr>\n",
       "    <tr>\n",
       "      <th>3</th>\n",
       "      <td>id2129090</td>\n",
       "      <td>1</td>\n",
       "      <td>2016-03-14 14:05:39</td>\n",
       "      <td>2016-03-14 14:28:05</td>\n",
       "      <td>1</td>\n",
       "      <td>-73.975090</td>\n",
       "      <td>40.758766</td>\n",
       "      <td>-73.953201</td>\n",
       "      <td>40.765068</td>\n",
       "      <td>N</td>\n",
       "      <td>1346</td>\n",
       "      <td>Manhattan</td>\n",
       "      <td>Long Island City</td>\n",
       "      <td>1.228003</td>\n",
       "      <td>afternoon</td>\n",
       "      <td>0</td>\n",
       "    </tr>\n",
       "    <tr>\n",
       "      <th>4</th>\n",
       "      <td>id0256505</td>\n",
       "      <td>1</td>\n",
       "      <td>2016-03-14 15:04:38</td>\n",
       "      <td>2016-03-14 15:16:13</td>\n",
       "      <td>1</td>\n",
       "      <td>-73.994484</td>\n",
       "      <td>40.745087</td>\n",
       "      <td>-73.998993</td>\n",
       "      <td>40.722710</td>\n",
       "      <td>N</td>\n",
       "      <td>695</td>\n",
       "      <td>New York City</td>\n",
       "      <td>New York City</td>\n",
       "      <td>1.562103</td>\n",
       "      <td>afternoon</td>\n",
       "      <td>0</td>\n",
       "    </tr>\n",
       "  </tbody>\n",
       "</table>\n",
       "</div>"
      ],
      "text/plain": [
       "          id  vendor_id     pickup_datetime     dropoff_datetime  \\\n",
       "0  id2875421          2 2016-03-14 17:24:55  2016-03-14 17:32:30   \n",
       "1  id0012891          2 2016-03-10 21:45:01  2016-03-10 22:05:26   \n",
       "2  id3361153          1 2016-03-11 07:11:23  2016-03-11 07:20:09   \n",
       "3  id2129090          1 2016-03-14 14:05:39  2016-03-14 14:28:05   \n",
       "4  id0256505          1 2016-03-14 15:04:38  2016-03-14 15:16:13   \n",
       "\n",
       "   passenger_count  pickup_longitude  pickup_latitude  dropoff_longitude  \\\n",
       "0                1        -73.982155        40.767937         -73.964630   \n",
       "1                1        -73.981049        40.744339         -73.973000   \n",
       "2                1        -73.994560        40.750526         -73.978500   \n",
       "3                1        -73.975090        40.758766         -73.953201   \n",
       "4                1        -73.994484        40.745087         -73.998993   \n",
       "\n",
       "   dropoff_latitude store_and_fwd_flag  trip_duration   pickup district  \\\n",
       "0         40.765602                  N            455         Manhattan   \n",
       "1         40.789989                  N           1225  Long Island City   \n",
       "2         40.756191                  N            526         Weehawken   \n",
       "3         40.765068                  N           1346         Manhattan   \n",
       "4         40.722710                  N            695     New York City   \n",
       "\n",
       "   dropoff district  distance        time of day  days  \n",
       "0         Manhattan  0.933406  rush hour evening     0  \n",
       "1         Manhattan  3.178194            evening     3  \n",
       "2         Manhattan  0.928961  rush hour morning     4  \n",
       "3  Long Island City  1.228003          afternoon     0  \n",
       "4     New York City  1.562103          afternoon     0  "
      ]
     },
     "execution_count": 38,
     "metadata": {},
     "output_type": "execute_result"
    }
   ],
   "source": [
    "df.head()"
   ]
  },
  {
   "cell_type": "code",
   "execution_count": 6,
   "metadata": {
    "scrolled": true
   },
   "outputs": [
    {
     "name": "stdout",
     "output_type": "stream",
     "text": [
      "number of rows: 118185, number of columns: 11\n"
     ]
    }
   ],
   "source": [
    "n_rows, n_columns = df.shape  # get the shape of dataframe\n",
    "print(\"number of rows: {}, number of columns: {}\".format(n_rows, n_columns))\n"
   ]
  },
  {
   "cell_type": "code",
   "execution_count": 7,
   "metadata": {},
   "outputs": [
    {
     "name": "stdout",
     "output_type": "stream",
     "text": [
      "Index(['id', 'vendor_id', 'pickup_datetime', 'dropoff_datetime',\n",
      "       'passenger_count', 'pickup_longitude', 'pickup_latitude',\n",
      "       'dropoff_longitude', 'dropoff_latitude', 'store_and_fwd_flag',\n",
      "       'trip_duration'],\n",
      "      dtype='object')\n"
     ]
    }
   ],
   "source": [
    "print(df.columns)"
   ]
  },
  {
   "cell_type": "markdown",
   "metadata": {},
   "source": [
    "| Attribute |  Explanation  |\n",
    "|----------------------------|-----------------------------------------------------------------|\n",
    "|id                          |  a unique identifier for each trip                              |\n",
    "|vendor id                   |  a code indicating the provider associated with the trip record |\n",
    "|pickup datetime             |  date and time when the meter was engaged                       |\n",
    "|dropoff datetime            |  date and time when the meter was disengaged                    |\n",
    "|passenger count             |  the number of passengers in the vehicle                        |\n",
    "|pickup longitude            |  the longitude where the meter was engaged                      |\n",
    "|pickup latitude             |  the latitude where the meter was engaged                       |\n",
    "|dropoff longitude           |  the longitude where the meter was disengaged                   |\n",
    "|dropoff store and fwd flag  |  indicates whether the trip record was held in vehicle memory   |\n",
    "|trip duration               |  duration of the trip in seconds                                |"
   ]
  },
  {
   "cell_type": "code",
   "execution_count": 5,
   "metadata": {},
   "outputs": [],
   "source": [
    "df['pickup district'] =np.nan\n",
    "df['dropoff district'] =np.nan"
   ]
  },
  {
   "cell_type": "code",
   "execution_count": 6,
   "metadata": {
    "scrolled": true
   },
   "outputs": [
    {
     "name": "stdout",
     "output_type": "stream",
     "text": [
      "Loading formatted geocoded file...\n"
     ]
    }
   ],
   "source": [
    "long2=df['dropoff_longitude']\n",
    "lat2=df['dropoff_latitude']\n",
    "long1=df['pickup_longitude']\n",
    "lat1=df['pickup_latitude']\n",
    "\n",
    "clist1=[]\n",
    "clist2=[]\n",
    "ctemp1=[]\n",
    "ctemp2=[]\n",
    "for i in range(118185):\n",
    "    coordinates=(lat1[i] , long1[i])\n",
    "    clist1.append(coordinates)\n",
    "    coordinates2=(lat2[i] , long2[i])\n",
    "    clist2.append(coordinates2)\n",
    "y1=rg.search(clist1)\n",
    "y2=rg.search(clist2)\n",
    "\n",
    "for i in range(118185):\n",
    "    ctemp1.append(y1[i]['name'])\n",
    "    ctemp2.append(y2[i]['name'])\n",
    "df['pickup district']=ctemp1\n",
    "df['dropoff district']=ctemp2"
   ]
  },
  {
   "cell_type": "code",
   "execution_count": 7,
   "metadata": {},
   "outputs": [
    {
     "name": "stdout",
     "output_type": "stream",
     "text": [
      "top 5 places to pick up customers:\n",
      "Manhattan           45329\n",
      "New York City       34625\n",
      "Long Island City    17787\n",
      "Weehawken           11334\n",
      "The Bronx            2777\n",
      "Name: pickup district, dtype: int64\n"
     ]
    }
   ],
   "source": [
    "print(\"top 5 places to pick up customers:\")\n",
    "top5locations=df['pickup district'].value_counts()\n",
    "print(top5locations.head(5))"
   ]
  },
  {
   "cell_type": "code",
   "execution_count": 8,
   "metadata": {
    "scrolled": true
   },
   "outputs": [
    {
     "name": "stdout",
     "output_type": "stream",
     "text": [
      "top 5 places where customers drop off:\n",
      "Manhattan           44478\n",
      "New York City       31082\n",
      "Long Island City    19919\n",
      "Weehawken           10621\n",
      "Brooklyn             2059\n",
      "Name: dropoff district, dtype: int64\n"
     ]
    }
   ],
   "source": [
    "print(\"top 5 places where customers drop off:\")\n",
    "top5locations2=df['dropoff district'].value_counts()\n",
    "print(top5locations2.head(5))"
   ]
  },
  {
   "cell_type": "code",
   "execution_count": 9,
   "metadata": {},
   "outputs": [],
   "source": [
    "from geopy.distance import geodesic\n",
    "\n",
    "dlist=[]\n",
    "\n",
    "for i in range(count_row):\n",
    "    dist=(lat1[i],long1[i])\n",
    "    dist1=(lat2[i],long2[i])\n",
    "    dlist.append(geodesic(dist,dist1).miles)\n",
    "df['distance']=dlist"
   ]
  },
  {
   "cell_type": "code",
   "execution_count": 10,
   "metadata": {},
   "outputs": [],
   "source": [
    "df['time of day']=np.nan\n",
    "dtimelist=[]\n",
    "tempdate=[]\n",
    "tempdate=df['pickup_datetime']\n",
    "\n",
    "for i in range(count_row):\n",
    "    x=str(tempdate[i])\n",
    "    xi=int(x[11:13])\n",
    "    if xi>=7 and xi<9:\n",
    "        dtimelist.append(\"rush hour morning\")\n",
    "    elif xi>=9 and xi<16:\n",
    "         dtimelist.append(\"afternoon\")\n",
    "    elif xi>=16 and xi<18:\n",
    "        dtimelist.append(\"rush hour evening\")\n",
    "    elif xi>=18 and xi<23:\n",
    "        dtimelist.append(\"evening\")\n",
    "    elif xi>=23:\n",
    "        dtimelist.append(\"late night\")\n",
    "    elif xi<7:\n",
    "        dtimelist.append(\"late night\")\n",
    "df['time of day']=dtimelist\n",
    "\n"
   ]
  },
  {
   "cell_type": "code",
   "execution_count": 14,
   "metadata": {},
   "outputs": [
    {
     "name": "stdout",
     "output_type": "stream",
     "text": [
      "afternoon            39752\n",
      "evening              35194\n",
      "late night           21528\n",
      "rush hour evening    11564\n",
      "rush hour morning    10147\n",
      "Name: time of day, dtype: int64\n"
     ]
    }
   ],
   "source": [
    "print(df['time of day'].value_counts())"
   ]
  },
  {
   "cell_type": "code",
   "execution_count": 11,
   "metadata": {},
   "outputs": [
    {
     "data": {
      "text/plain": [
       "Text(0.5, 1.0, 'Distance taken when time of the day changes')"
      ]
     },
     "execution_count": 11,
     "metadata": {},
     "output_type": "execute_result"
    },
    {
     "data": {
      "image/png": "[encoded data removed]",
      "text/plain": [
       "<Figure size 432x288 with 1 Axes>"
      ]
     },
     "metadata": {
      "needs_background": "light"
     },
     "output_type": "display_data"
    },
    {
     "data": {
      "image/png": "[encoded data removed]",
      "text/plain": [
       "<Figure size 432x288 with 1 Axes>"
      ]
     },
     "metadata": {
      "needs_background": "light"
     },
     "output_type": "display_data"
    }
   ],
   "source": [
    "tempsum=0\n",
    "tempsum1=0\n",
    "tempsum2=0\n",
    "tempsum3=0\n",
    "tempsum4=0\n",
    "for i in range(count_row):\n",
    "    if df['time of day'][i]==\"rush hour morning\":\n",
    "        tempsum=tempsum+df['distance'][i]\n",
    "    elif df['time of day'][i]==\"afternoon\":\n",
    "        tempsum1=tempsum1+df['distance'][i]\n",
    "    elif df['time of day'][i]==\"rush hour evening\":\n",
    "        tempsum2=tempsum2+df['distance'][i]\n",
    "    elif df['time of day'][i]==\"evening\":\n",
    "        tempsum3=tempsum3+df['distance'][i]\n",
    "    elif df['time of day'][i]==\"late night\":\n",
    "        tempsum4=tempsum4+df['distance'][i]\n",
    "avg1=tempsum/10147\n",
    "avg2=tempsum1/39752\n",
    "avg3=tempsum2/11564\n",
    "avg4=tempsum3/35194\n",
    "avg5=tempsum4/21528\n",
    "avgtimes=pd.DataFrame({'time':[\"rush hour morning\",\"afternoon\",\"rush hour evening\",\"evening\",\"late night\"],'avg':[avg1,avg2,avg3,avg4,avg5]})\n",
    "ax = avgtimes.plot(kind=\"bar\",\n",
    "                   color=\"steelblue\",\n",
    "                   rot=90,y='avg',x='time')\n",
    "plt.ylabel(\"Distance\")\n",
    "plt.title('Distance taken when time of the day changes')\n",
    " \n",
    "lines = avgtimes.plot.line(y='avg',x='time')\n",
    "plt.ylabel(\"Distance\")\n",
    "plt.title('Distance taken when time of the day changes')\n",
    " \n",
    "    "
   ]
  },
  {
   "cell_type": "markdown",
   "metadata": {},
   "source": [
    "average distance goes down till \"afternoon\" then increases till evening and reach it's max at late night."
   ]
  },
  {
   "cell_type": "code",
   "execution_count": 12,
   "metadata": {
    "scrolled": true
   },
   "outputs": [
    {
     "data": {
      "text/plain": [
       "Text(0.5, 1.0, 'trip duration when time of the day changes')"
      ]
     },
     "execution_count": 12,
     "metadata": {},
     "output_type": "execute_result"
    },
    {
     "data": {
      "image/png": "[encoded data removed]",
      "text/plain": [
       "<Figure size 432x288 with 1 Axes>"
      ]
     },
     "metadata": {
      "needs_background": "light"
     },
     "output_type": "display_data"
    }
   ],
   "source": [
    "timeofdays = df.groupby(by=\"time of day\").sum()[\"trip_duration\"]\n",
    "numberofrides = df.groupby(by=\"time of day\").count()[\"id\"]        \n",
    "avgtimes=timeofdays/numberofrides\n",
    "ax = avgtimes.plot(kind=\"bar\", color=\"green\",rot=90)\n",
    "lines = avgtimes.plot.line(y='avg',x='duration',rot=90)\n",
    "plt.ylabel(\"Durations\")\n",
    "plt.title('trip duration when time of the day changes')\n"
   ]
  },
  {
   "cell_type": "markdown",
   "metadata": {},
   "source": [
    "1. Does passenger group size affect the distance?\n",
    "• Null hypothesis: passenger group size has no effect on the distance.\n",
    "To test this we can use pearson correlation to find how dependent group size and distance is"
   ]
  },
  {
   "cell_type": "code",
   "execution_count": 27,
   "metadata": {
    "scrolled": true
   },
   "outputs": [
    {
     "data": {
      "text/plain": [
       "<seaborn.axisgrid.PairGrid at 0x124b8250>"
      ]
     },
     "execution_count": 27,
     "metadata": {},
     "output_type": "execute_result"
    },
    {
     "data": {
      "image/png": "[encoded data removed]",
      "text/plain": [
       "<Figure size 360x360 with 6 Axes>"
      ]
     },
     "metadata": {
      "needs_background": "light"
     },
     "output_type": "display_data"
    }
   ],
   "source": [
    "cols = [\"distance\", \"passenger_count\"]\n",
    "\n",
    "sns.pairplot(data=df, vars=cols)"
   ]
  },
  {
   "cell_type": "code",
   "execution_count": 29,
   "metadata": {},
   "outputs": [
    {
     "data": {
      "text/plain": [
       "(0.005969284310210781, 0.04015801711548572)"
      ]
     },
     "execution_count": 29,
     "metadata": {},
     "output_type": "execute_result"
    }
   ],
   "source": [
    "stats.pearsonr(df[\"distance\"], df[\"passenger_count\"])"
   ]
  },
  {
   "cell_type": "markdown",
   "metadata": {},
   "source": [
    "As seen in the results the correlation coefficient we obtained is too small there for we can say their correlation is not significant which says that Null hypothesis is true, distance and passenger count does not effect each other."
   ]
  },
  {
   "cell_type": "markdown",
   "metadata": {},
   "source": [
    "2. Do trip distances increase in weekends?\n",
    "• Null hypothesis: The day of the week has no effect on the distance"
   ]
  },
  {
   "cell_type": "code",
   "execution_count": 13,
   "metadata": {},
   "outputs": [],
   "source": [
    "df[\"pickup_datetime\"] = pd.to_datetime(df[\"pickup_datetime\"])"
   ]
  },
  {
   "cell_type": "code",
   "execution_count": 35,
   "metadata": {},
   "outputs": [
    {
     "data": {
      "text/plain": [
       "<seaborn.axisgrid.PairGrid at 0x5b80f7f0>"
      ]
     },
     "execution_count": 35,
     "metadata": {},
     "output_type": "execute_result"
    },
    {
     "data": {
      "image/png": "[encoded data removed]",
      "text/plain": [
       "<Figure size 360x360 with 6 Axes>"
      ]
     },
     "metadata": {
      "needs_background": "light"
     },
     "output_type": "display_data"
    }
   ],
   "source": [
    "\n",
    "dftest=df\n",
    "dftest['days']=df[\"pickup_datetime\"].dt.dayofweek\n",
    "cols =\"days\" , \"distance\"\n",
    "\n",
    "\n",
    "sns.pairplot(data=dftest,vars=cols)\n",
    "\n"
   ]
  },
  {
   "cell_type": "code",
   "execution_count": 40,
   "metadata": {},
   "outputs": [
    {
     "data": {
      "text/plain": [
       "(0.014648608934216068, 4.75057008565448e-07)"
      ]
     },
     "execution_count": 40,
     "metadata": {},
     "output_type": "execute_result"
    }
   ],
   "source": [
    "stats.pearsonr( dftest[\"distance\"],dftest[\"days\"])"
   ]
  },
  {
   "cell_type": "markdown",
   "metadata": {},
   "source": [
    "as value 4.7 indicates there is parts that day and distance has strong relations therefor can reject this null hypothesis. for main hypothesis: weekends does not increase distances as seen in left bottom graph \"saturday\" distance is in range of 0-20 while weekdays can reach above 50."
   ]
  }
 ],
 "metadata": {
  "kernelspec": {
   "display_name": "Python 3",
   "language": "python",
   "name": "python3"
  },
  "language_info": {
   "codemirror_mode": {
    "name": "ipython",
    "version": 3
   },
   "file_extension": ".py",
   "mimetype": "text/x-python",
   "name": "python",
   "nbconvert_exporter": "python",
   "pygments_lexer": "ipython3",
   "version": "3.7.2"
  }
 },
 "nbformat": 4,
 "nbformat_minor": 2
}
